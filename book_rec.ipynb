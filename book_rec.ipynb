{
 "cells": [
  {
   "cell_type": "code",
   "execution_count": 14,
   "metadata": {},
   "outputs": [
    {
     "name": "stdout",
     "output_type": "stream",
     "text": [
      "Enter rating w/wo <rating> or random for book suggestion\n",
      "enter to search rating 5\n",
      "Title:   The Goon Show  Volume 4: My Knees Have Fallen Off!\n",
      "Author:   NOT A BOOK\n",
      "Rating:   5\n",
      "Enjoy!\n"
     ]
    }
   ],
   "source": [
    "# Importing libraries\n",
    "import pandas as pd\n",
    "def recommendation():\n",
    "    \n",
    "    # Read csv file into a pandas dataframe\n",
    "    df = pd.read_csv(\"books.csv\")\n",
    "    df = df[df.language_code =='eng']\n",
    "    df['Title'] = df['title'].str.split('(').str[0]\n",
    "    print(\"Enter rating w/wo <rating> or random for book suggestion\")\n",
    "    search= input(\"enter to search: rating <lower limit> <upper limit> | random \")\n",
    "    if search.lower()==\"random\":\n",
    "        df_new= df.sample(replace=True)[['Title', 'authors',\"rating\"]]\n",
    "        print(\"Title: \", df_new[['Title']].to_string(index=False, header=False))\n",
    "        print(\"Author: \", df_new[['authors']].to_string(index=False, header=False))\n",
    "        print(\"Rating: \", df_new[['rating']].to_string(index=False, header=False))\n",
    "        return \"Enjoy!\"\n",
    "    elif \"rating\" in search.lower():\n",
    "            search=search.split()\n",
    "            if len(search) == 1:            # if no range is entered\n",
    "                l_rate = 0 ; u_rate = 5     # then default range is 0 to 5\n",
    "            elif len(search) ==2:           # if only lower range is specified\n",
    "                u_rate = 5                  # then default upper range to 5\n",
    "            else:                           # if both ranges are present\n",
    "                l_rate=float(search[1])\n",
    "                u_rate=float(search[2])\n",
    "            df_rate1 = df[df['rating'].astype(float) <= u_rate ]             # Filtering <= upper limit\n",
    "            df_rate = df_rate1[df_rate1['rating'].astype(float) >= l_rate ]  # Filtering >= lower limit\n",
    "            #\n",
    "            df_new= df_rate.sample(replace=True)[['Title', 'authors',\"rating\"]]\n",
    "            print(\"Title: \", df_new[['Title']].to_string(index=False, header=False))\n",
    "            print(\"Author: \", df_new[['authors']].to_string(index=False, header=False))\n",
    "            print(\"Rating: \", df_new[['rating']].to_string(index=False, header=False))\n",
    "            return \"Enjoy!\"\n",
    "print(recommendation())"
   ]
  },
  {
   "cell_type": "code",
   "execution_count": null,
   "metadata": {},
   "outputs": [],
   "source": []
  },
  {
   "cell_type": "code",
   "execution_count": null,
   "metadata": {},
   "outputs": [],
   "source": []
  },
  {
   "cell_type": "code",
   "execution_count": null,
   "metadata": {},
   "outputs": [],
   "source": []
  },
  {
   "cell_type": "code",
   "execution_count": null,
   "metadata": {},
   "outputs": [],
   "source": []
  }
 ],
 "metadata": {
  "kernelspec": {
   "display_name": "Python 3",
   "language": "python",
   "name": "python3"
  },
  "language_info": {
   "codemirror_mode": {
    "name": "ipython",
    "version": 3
   },
   "file_extension": ".py",
   "mimetype": "text/x-python",
   "name": "python",
   "nbconvert_exporter": "python",
   "pygments_lexer": "ipython3",
   "version": "3.8.3"
  }
 },
 "nbformat": 4,
 "nbformat_minor": 4
}
