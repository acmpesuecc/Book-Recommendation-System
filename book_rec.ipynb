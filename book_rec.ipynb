{
 "cells": [
  {
   "cell_type": "code",
   "execution_count": 1,
   "metadata": {},
   "outputs": [],
   "source": [
    "# Importing libraries\n",
    "import pandas as pd"
   ]
  },
  {
   "cell_type": "code",
   "execution_count": 2,
   "metadata": {},
   "outputs": [],
   "source": [
    "def recommendation():\n",
    "    \n",
    "    # Read csv file into a pandas dataframe\n",
    "    df = pd.read_csv(\"books.csv\")\n",
    "    df = df[df.language_code =='eng']\n",
    "    df['Title'] = df['title'].str.split('(').str[0]\n",
    "    print(\"Enter rating w/wo <rating> or random for book suggestion\")\n",
    "    search= input(\"enter to search \")\n",
    "    if search==\"random\":\n",
    "        df_new= df.sample(replace=True)[['Title', 'authors',\"rating\"]]\n",
    "        print(\"Title: \", df_new[['Title']].to_string(index=False, header=False))\n",
    "        print(\"Author: \", df_new[['authors']].to_string(index=False, header=False))\n",
    "        print(\"Rating: \", df_new[['rating']].to_string(index=False, header=False))\n",
    "        return \"Enjoy!\"\n",
    "    else:\n",
    "        if \"rating\" in search:\n",
    "            search=search.split()\n",
    "            rate=float(search[1])\n",
    "            \n",
    "            if rate < 0 or rate > 5:\n",
    "                print(\"Error: Enter rating between 0 and 5\")\n",
    "                return \"Please Correct\"\n",
    "            else:\n",
    "                df_rate = df[df['rating'].astype(float) >= rate]\n",
    "                df_new= df_rate.sample(replace=True)[['Title', 'authors',\"rating\"]]\n",
    "                print(\"Title: \", df_new[['Title']].to_string(index=False, header=False))\n",
    "                print(\"Author: \", df_new[['authors']].to_string(index=False, header=False))\n",
    "                print(\"Rating: \", df_new[['rating']].to_string(index=False, header=False))\n",
    "                return \"Enjoy!\""
   ]
  },
  {
   "cell_type": "code",
   "execution_count": 3,
   "metadata": {},
   "outputs": [],
   "source": [
    "def author_name():\n",
    "    # Function to list the books and ratings of the author selected by the user \n",
    "    author = input(\"Enter the name of the author whose books and ratings should be displayed : \")\n",
    "    df = pd.read_csv(\"books.csv\")\n",
    "    cols = ['title', 'rating']\n",
    "    books = df[df.authors.str.contains(author, case=False)]\n",
    "    print(books[cols])\n",
    "    return"
   ]
  },
  {
   "cell_type": "code",
   "execution_count": 5,
   "metadata": {},
   "outputs": [
    {
     "name": "stdout",
     "output_type": "stream",
     "text": [
      "Please select your mode of search\n",
      "Press 1 to search based on Rating of the book\n",
      "Press 2 to search based on Author's name\n",
      "Enter your choice : 2\n",
      "Enter the name of the author whose books and ratings should be displayed : j.K\n",
      "                                                   title rating\n",
      "0      Harry Potter and the Half-Blood Prince (Harry ...   4.57\n",
      "1      Harry Potter and the Order of the Phoenix (Har...   4.49\n",
      "2      Harry Potter and the Chamber of Secrets (Harry...   4.42\n",
      "3      Harry Potter and the Prisoner of Azkaban (Harr...   4.56\n",
      "4      Harry Potter Boxed Set  Books 1-5 (Harry Potte...   4.78\n",
      "6           Harry Potter Collection (Harry Potter  #1-6)   4.73\n",
      "613    Harry Potter Schoolbooks Box Set: Two Classic ...    4.4\n",
      "615    Harry Potter and the Half-Blood Prince (Harry ...   4.57\n",
      "988    Harry Potter Y La Piedra Filosofal (Harry Pott...   4.47\n",
      "1233   Harry Potter and the Prisoner of Azkaban (Harr...   4.56\n",
      "1720                                  混血王子的背叛 (哈利波特  #6)   4.57\n",
      "1721                                    火盃的考驗 (哈利波特  #4)   4.56\n",
      "1963   The Tale of Genji: Scenes from the World's Fir...   3.74\n",
      "4412   Harry Potter y el misterio del príncipe (Harry...   4.57\n",
      "4413   Harry Potter y la Orden del Fénix (Harry Potte...   4.49\n",
      "4415                  Harrius Potter et Philosophi Lapis   4.47\n",
      "4416   Harry Potter and the Chamber of Secrets (Harry...   4.42\n",
      "4417                 Harrius Potter et Camera Secretorum   4.42\n",
      "5881                          Prioritizing Web Usability   3.94\n",
      "5882       Homepage Usability: 50 Websites Deconstructed   3.74\n",
      "8493                                   Guilty as Charged   3.76\n",
      "8876   Harry Potter and the Sorcerer's Stone (Harry P...   4.47\n",
      "9451   The Weimar Republic: The Crisis of Classical M...   3.84\n",
      "10344  Fantastic Beasts and Where to Find Them (Hogwa...   3.99\n",
      "10347  Harry Potter und die Kammer des Schreckens (Ha...   4.42\n",
      "10348  Harry Potter und der Gefangene von Askaban (Ha...   4.56\n",
      "10349    Harry Potter ve Sırlar Odası (Harry Potter  #2)   4.42\n",
      "10350  Harry Potter und der Gefangene von Askaban (Ha...   4.56\n",
      "10678  Harry Potter and the Philosopher's Stone (Harr...   4.47\n",
      "10679  Harry Potter and the Goblet of Fire (Harry Pot...   4.56\n"
     ]
    }
   ],
   "source": [
    "print(\"Please select your mode of search\")\n",
    "print(\"Press 1 to search based on Rating of the book\")\n",
    "print(\"Press 2 to search based on Author's name\")\n",
    "choice = input(\"Enter your choice : \")\n",
    "if choice == \"1\":\n",
    "    print(recommendation())\n",
    "elif choice == \"2\":\n",
    "    author_name()\n",
    "else:\n",
    "    print(\"Invalid choice. Please correct the choice by selecting either 1 or 2\")"
   ]
  },
  {
   "cell_type": "code",
   "execution_count": null,
   "metadata": {},
   "outputs": [],
   "source": []
  },
  {
   "cell_type": "code",
   "execution_count": null,
   "metadata": {},
   "outputs": [],
   "source": []
  }
 ],
 "metadata": {
  "kernelspec": {
   "display_name": "Python 3",
   "language": "python",
   "name": "python3"
  },
  "language_info": {
   "codemirror_mode": {
    "name": "ipython",
    "version": 3
   },
   "file_extension": ".py",
   "mimetype": "text/x-python",
   "name": "python",
   "nbconvert_exporter": "python",
   "pygments_lexer": "ipython3",
   "version": "3.8.5"
  }
 },
 "nbformat": 4,
 "nbformat_minor": 4
}
