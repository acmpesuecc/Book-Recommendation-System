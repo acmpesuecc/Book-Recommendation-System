{
 "cells": [
  {
   "cell_type": "code",
   "execution_count": 3,
   "metadata": {},
   "outputs": [
    {
     "name": "stdout",
     "output_type": "stream",
     "text": [
      "Enter rating w/wo <rating> or random for book suggestion\n",
      "enter to search random\n",
      "Title:   How to Talk to Anyone: 92 Little Tricks for Big Success in Relationships\n",
      "Author:   Leil Lowndes\n",
      "Rating:   3.78\n",
      "Enjoy!\n"
     ]
    }
   ],
   "source": [
    "# Importing libraries\n",
    "import pandas as pd\n",
    "def recommendation():\n",
    "    \n",
    "    # Read csv file into a pandas dataframe\n",
    "    df = pd.read_csv(\"books.csv\")\n",
    "    df = df[df.language_code =='eng']\n",
    "    df['Title'] = df['title'].str.split('(').str[0]\n",
    "    print(\"Enter rating w/wo <rating> or random for book suggestion\")\n",
    "    search= input(\"enter to search \")\n",
    "    if search==\"random\":\n",
    "        df_new= df.sample(replace=True)[['Title', 'authors',\"rating\"]]\n",
    "        print(\"Title: \", df_new[['Title']].to_string(index=False, header=False))\n",
    "        print(\"Author: \", df_new[['authors']].to_string(index=False, header=False))\n",
    "        print(\"Rating: \", df_new[['rating']].to_string(index=False, header=False))\n",
    "        return \"Enjoy!\"\n",
    "    else:\n",
    "        if \"rating\" in search:\n",
    "            search=search.split()\n",
    "            rate=float(search[1])\n",
    "            \n",
    "            if rate < 0 or rate > 5:\n",
    "                print(\"Error: Enter rating between 0 and 5\")\n",
    "                return \"Please Correct\"\n",
    "            else:\n",
    "                df_rate = df[df['rating'].astype(float) >= rate]\n",
    "                df_new= df_rate.sample(replace=True)[['Title', 'authors',\"rating\"]]\n",
    "                print(\"Title: \", df_new[['Title']].to_string(index=False, header=False))\n",
    "                print(\"Author: \", df_new[['authors']].to_string(index=False, header=False))\n",
    "                print(\"Rating: \", df_new[['rating']].to_string(index=False, header=False))\n",
    "                return \"Enjoy!\"\n",
    "print(recommendation())"
   ]
  },
  {
   "cell_type": "code",
   "execution_count": 23,
   "metadata": {},
   "outputs": [
    {
     "name": "stdout",
     "output_type": "stream",
     "text": [
      "Enter rating range between 1 and 5: \n",
      "enter lower limit 2\n",
      "enter upper limit3\n",
      "Title:  Healthy Cooking for IBS: 100 Delicious Recipes to Keep You Symptom-Free\n",
      "Author:  Sophie Braimbridge/Erica Jankovich\n",
      "Rating:  2.62\n"
     ]
    },
    {
     "data": {
      "text/plain": [
       "'Enjoy!'"
      ]
     },
     "execution_count": 23,
     "metadata": {},
     "output_type": "execute_result"
    }
   ],
   "source": [
    "def range_recommend():\n",
    "    '''function to recommend a book within an entered range'''\n",
    "    # Read csv file into a pandas dataframe\n",
    "    df = pd.read_csv(\"books.csv\")\n",
    "    df = df[df.language_code =='eng']\n",
    "    print(\"Enter rating range between 1 and 5: \")\n",
    "    \n",
    "    llimit= float(input(\"enter lower limit \"))\n",
    "    if llimit<1 or llimit>5:\n",
    "        llimit=1\n",
    "    ulimit= float(input(\"enter upper limit\"))\n",
    "    if ulimit>5 or ulimit<llimit:\n",
    "        ulimit=5\n",
    "    df_rate = df[(df['rating'].astype(float) >= llimit) & (df['rating'].astype(float) <= ulimit) ]\n",
    "    df_new= df_rate.sample(replace=True)[['title', 'authors',\"rating\"]]\n",
    "    print(\"Title: \", df_new[['title']].to_string(index=False, header=False))\n",
    "    print(\"Author: \", df_new[['authors']].to_string(index=False, header=False))\n",
    "    print(\"Rating: \", df_new[['rating']].to_string(index=False, header=False))\n",
    "    return \"Enjoy!\"\n",
    "range_recommend()"
   ]
  },
  {
   "cell_type": "code",
   "execution_count": 18,
   "metadata": {},
   "outputs": [
    {
     "name": "stdout",
     "output_type": "stream",
     "text": [
      "Enter the name of the author to search: bill bryson\n",
      "                                                   title rating\n",
      "12                  A Short History of Nearly Everything   4.21\n",
      "13                           Bill Bryson's African Diary   3.44\n",
      "14     Bryson's Dictionary of Troublesome Words: A Wr...   3.87\n",
      "15                                In a Sunburned Country   4.07\n",
      "16     I'm a Stranger Here Myself: Notes on Returning...    3.9\n",
      "17     The Lost Continent: Travels in Small Town America   3.83\n",
      "18             Neither Here nor There: Travels in Europe   3.86\n",
      "19                             Notes from a Small Island   3.91\n",
      "20     The Mother Tongue: English and How It Got That...   3.93\n",
      "1161                A Short History of Nearly Everything   4.21\n",
      "1458   A Short History of Nearly Everything (Illustra...   4.21\n",
      "2661   A Walk in the Woods: Rediscovering America on ...   4.06\n",
      "2662   A Walk in the Woods: Rediscovering America on ...   4.06\n",
      "2834   The Lost Continent:  Travels in Small-town Ame...   3.83\n",
      "2835   Made in America: An Informal History of the En...   3.91\n",
      "5555                         Bill Bryson's African Diary   3.44\n",
      "10522                                         Down Under   4.07\n",
      "10523  A Walk in the Woods: Rediscovering America on ...   4.06\n",
      "10525  The Life and Times of the Thunderbolt Kid: A M...   3.94\n",
      "10526                    Bill Bryson: The Complete Notes   4.09\n",
      "10528                                Journeys in English   3.72\n"
     ]
    }
   ],
   "source": [
    "import pandas as pd\n",
    "def author_recommend():\n",
    "   \n",
    "    df = pd.read_csv(\"books.csv\")\n",
    "    author=input(\"Enter the name of the author to search: \");\n",
    "    df = df[df.authors ==author.title()]\n",
    "    \n",
    "    if(df.empty):\n",
    "        print(\"There is no book with the specefied author\")\n",
    "    else:\n",
    "        print(df[['title','rating']])\n",
    "author_recommend()"
   ]
  }
 ],
 "metadata": {
  "interpreter": {
   "hash": "e4fe30fe6d6f0b52a22b6f2cc7bc055a79c3f2b92415e53f54c40b994a4f7ccd"
  },
  "kernelspec": {
   "display_name": "Python 3",
   "language": "python",
   "name": "python3"
  },
  "language_info": {
   "codemirror_mode": {
    "name": "ipython",
    "version": 3
   },
   "file_extension": ".py",
   "mimetype": "text/x-python",
   "name": "python",
   "nbconvert_exporter": "python",
   "pygments_lexer": "ipython3",
   "version": "3.8.8"
  }
 },
 "nbformat": 4,
 "nbformat_minor": 4
}
