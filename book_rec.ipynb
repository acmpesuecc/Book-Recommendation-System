{
 "cells": [
  {
   "cell_type": "code",
   "execution_count": null,
   "source": [
    "# Importing libraries\r\n",
    "import pandas as pd\r\n",
    "def recommendation():\r\n",
    "    \r\n",
    "    # Read csv file into a pandas dataframe\r\n",
    "    df = pd.read_csv(\"/books.csv\")\r\n",
    "    df = df[df.language_code =='eng']\r\n",
    "    df['Title'] = df['title'].str.split('(').str[0]\r\n",
    "    print(\"Enter rating w/wo <rating> or random for book suggestion\")\r\n",
    "    search= input(\"enter to search \")\r\n",
    "    if search==\"random\":\r\n",
    "        df_new= df.sample(replace=True)[['Title', 'authors',\"rating\"]]\r\n",
    "        print(\"Title: \", df_new[['Title']].to_string(index=False, header=False))\r\n",
    "        print(\"Author: \", df_new[['authors']].to_string(index=False, header=False))\r\n",
    "        print(\"Rating: \", df_new[['rating']].to_string(index=False, header=False))\r\n",
    "        return \"Enjoy!\"\r\n",
    "    elif \"rating\" in search:\r\n",
    "            search=search.split()\r\n",
    "            rate=float(search[1])\r\n",
    "            df_rate = df[df['rating'].astype(float) >= rate]\r\n",
    "            df_new= df_rate.sample(replace=True)[['Title', 'authors',\"rating\"]]\r\n",
    "            print(\"Title: \", df_new[['Title']].to_string(index=False, header=False))\r\n",
    "            print(\"Author: \", df_new[['authors']].to_string(index=False, header=False))\r\n",
    "            print(\"Rating: \", df_new[['rating']].to_string(index=False, header=False))\r\n",
    "            return \"Enjoy!\"\r\n",
    "print(recommendation())\r\n",
    "print(df.head)\r\n",
    "\r\n",
    "def searchByAuthor():\r\n",
    "  author=input('Enter the name of the author')\r\n",
    "  df.loc[df['authors'] == author]\r\n",
    "  print(df[['title', 'authors','rating']])\r\n",
    "\r\n",
    "searchByAuthor()\r\n",
    "\r\n",
    "def plotByRating():\r\n",
    "  sorted_df=(df.groupby([\"authors\", \"rating\"],as_index=False).first()).sort_values(by=['rating'], ascending=False).head(5)\r\n",
    "  sorted_df[[\"rating\"]] = sorted_df[[\"rating\"]].apply(pd.to_numeric)\r\n",
    "  sorted_df.plot(x=\"authors\",y=\"rating\",kind=\"bar\")\r\n",
    "plotByRating()\r\n",
    "  \r\n",
    "\r\n",
    "\r\n"
   ],
   "outputs": [],
   "metadata": {}
  }
 ],
 "metadata": {
  "kernelspec": {
   "display_name": "Python 3 (ipykernel)",
   "language": "python",
   "name": "python3"
  },
  "language_info": {
   "codemirror_mode": {
    "name": "ipython",
    "version": 3
   },
   "file_extension": ".py",
   "mimetype": "text/x-python",
   "name": "python",
   "nbconvert_exporter": "python",
   "pygments_lexer": "ipython3",
   "version": "3.10.0"
  }
 },
 "nbformat": 4,
 "nbformat_minor": 4
}