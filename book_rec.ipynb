{
 "cells": [
  {
   "cell_type": "code",
   "execution_count": 5,
   "source": [
    "# Importing libraries\n",
    "import pandas as pd\n",
    "def recommendation():\n",
    "    \n",
    "    # Read csv file into a pandas dataframe\n",
    "    df = pd.read_csv(\"books.csv\")\n",
    "    df = df[df.language_code =='eng']\n",
    "    df['Title'] = df['title'].str.split('(').str[0]\n",
    "    print(\"Enter rating w/wo <rating> or random for book suggestion\")\n",
    "    search= input(\"enter to search \")\n",
    "    if search==\"random\":\n",
    "        df_new= df.sample(replace=True)[['Title', 'authors',\"rating\"]]\n",
    "        print(\"Title: \", df_new[['Title']].to_string(index=False, header=False))\n",
    "        print(\"Author: \", df_new[['authors']].to_string(index=False, header=False))\n",
    "        print(\"Rating: \", df_new[['rating']].to_string(index=False, header=False))\n",
    "        return \"Enjoy!\"\n",
    "    elif \"rating\" in search:\n",
    "            search=search.split()\n",
    "            rate=float(search[1])\n",
    "            df_rate = df[df['rating'].astype(float) >= rate]\n",
    "            df_new= df_rate.sample(replace=True)[['Title', 'authors',\"rating\"]]\n",
    "            print(\"Title: \", df_new[['Title']].to_string(index=False, header=False))\n",
    "            print(\"Author: \", df_new[['authors']].to_string(index=False, header=False))\n",
    "            print(\"Rating: \", df_new[['rating']].to_string(index=False, header=False))\n",
    "            return \"Enjoy!\"\n",
    "print(recommendation())"
   ],
   "outputs": [
    {
     "output_type": "stream",
     "name": "stdout",
     "text": [
      "Enter rating w/wo <rating> or random for book suggestion\n",
      "enter to search random\n",
      "Title:  Fullmetal Alchemist  Vol. 8 \n",
      "Author:  Hiromu Arakawa/Akira Watanabe\n",
      "Rating:  4.57\n",
      "Enjoy!\n"
     ]
    }
   ],
   "metadata": {}
  },
  {
   "cell_type": "code",
   "execution_count": null,
   "source": [],
   "outputs": [],
   "metadata": {}
  },
  {
   "cell_type": "code",
   "execution_count": null,
   "source": [],
   "outputs": [],
   "metadata": {}
  },
  {
   "cell_type": "code",
   "execution_count": null,
   "source": [],
   "outputs": [],
   "metadata": {}
  },
  {
   "cell_type": "code",
   "execution_count": null,
   "source": [],
   "outputs": [],
   "metadata": {}
  }
 ],
 "metadata": {
  "interpreter": {
   "hash": "34988aa18bfd5e31d6508238d9f8773b42a28f885d63c6c28d319ef8e0dfeb22"
  },
  "kernelspec": {
   "name": "python3",
   "display_name": "Python 3.8.8 64-bit ('base': conda)"
  },
  "language_info": {
   "codemirror_mode": {
    "name": "ipython",
    "version": 3
   },
   "file_extension": ".py",
   "mimetype": "text/x-python",
   "name": "python",
   "nbconvert_exporter": "python",
   "pygments_lexer": "ipython3",
   "version": "3.8.8"
  }
 },
 "nbformat": 4,
 "nbformat_minor": 4
}