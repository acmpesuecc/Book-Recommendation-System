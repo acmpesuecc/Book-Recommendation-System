{
 "cells": [
  {
   "cell_type": "code",
   "execution_count": 1,
   "metadata": {},
   "outputs": [],
   "source": [
    "# Importing libraries\n",
    "import pandas as pd\n",
    "import numpy as np"
   ]
  },
  {
   "cell_type": "code",
   "execution_count": null,
   "metadata": {},
   "outputs": [],
   "source": [
    "def recommendation():\n",
    "    \n",
    "    # Read csv file into a pandas dataframe\n",
    "    df = pd.read_csv(\"books.csv\")\n",
    "    df = df[df.language_code =='eng']\n",
    "    df['Title'] = df['title'].str.split('(').str[0]\n",
    "    print(\"Enter rating w/wo <rating> or random for book suggestion\")\n",
    "    search= input(\"enter to search \")\n",
    "    if search==\"random\":\n",
    "        df_new= df.sample(replace=True)[['Title', 'authors',\"rating\"]]\n",
    "        print(\"Title: \", df_new[['Title']].to_string(index=False, header=False))\n",
    "        print(\"Author: \", df_new[['authors']].to_string(index=False, header=False))\n",
    "        print(\"Rating: \", df_new[['rating']].to_string(index=False, header=False))\n",
    "        return \"Enjoy!\"\n",
    "    else:\n",
    "        if \"rating\" in search:\n",
    "            search=search.split()\n",
    "            rate=float(search[1])\n",
    "            \n",
    "            if rate < 0 or rate > 5:\n",
    "                print(\"Error: Enter rating between 0 and 5\")\n",
    "                return \"Please Correct\"\n",
    "            else:\n",
    "                df_rate = df[df['rating'].astype(float) >= rate]\n",
    "                df_new= df_rate.sample(replace=True)[['Title', 'authors',\"rating\"]]\n",
    "                print(\"Title: \", df_new[['Title']].to_string(index=False, header=False))\n",
    "                print(\"Author: \", df_new[['authors']].to_string(index=False, header=False))\n",
    "                print(\"Rating: \", df_new[['rating']].to_string(index=False, header=False))\n",
    "                return \"Enjoy!\"\n",
    "print(recommendation())"
   ]
  },
  {
   "cell_type": "code",
   "execution_count": null,
   "metadata": {},
   "outputs": [],
   "source": [
    "'''Visualization of the top 5 authors with the highest average ratings on their books in the form of charts or graphs.\n",
    "Can use pandas, mathlib, etc'''"
   ]
  },
  {
   "cell_type": "code",
   "execution_count": 10,
   "metadata": {
    "scrolled": true
   },
   "outputs": [
    {
     "data": {
      "text/plain": [
       "<AxesSubplot:xlabel='authors'>"
      ]
     },
     "execution_count": 10,
     "metadata": {},
     "output_type": "execute_result"
    },
    {
     "data": {
      "image/png": "[encoded data removed]",
      "text/plain": [
       "<Figure size 432x288 with 1 Axes>"
      ]
     },
     "metadata": {
      "needs_background": "light"
     },
     "output_type": "display_data"
    }
   ],
   "source": [
    "df = pd.read_csv(\"books.csv\")\n",
    "df = df[df.language_code =='eng']\n",
    "df['rating']=df['rating'].astype(float)\n",
    "top5_df = df.groupby(['authors'])[['rating']].mean().sort_values(['rating'],ascending = False).head(5)\n",
    "top5_df.plot.bar()"
   ]
  },
  {
   "cell_type": "code",
   "execution_count": null,
   "metadata": {},
   "outputs": [],
   "source": []
  }
 ],
 "metadata": {
  "kernelspec": {
   "display_name": "Python 3",
   "language": "python",
   "name": "python3"
  },
  "language_info": {
   "codemirror_mode": {
    "name": "ipython",
    "version": 3
   },
   "file_extension": ".py",
   "mimetype": "text/x-python",
   "name": "python",
   "nbconvert_exporter": "python",
   "pygments_lexer": "ipython3",
   "version": "3.8.5"
  }
 },
 "nbformat": 4,
 "nbformat_minor": 4
}
