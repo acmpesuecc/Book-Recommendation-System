{
 "cells": [
  {
   "cell_type": "code",
   "execution_count": null,
   "metadata": {},
   "outputs": [],
   "source": [
    "# Importing libraries\n",
    "import pandas as pd\n",
    "def recommendation():\n",
    "    \n",
    "    # Read csv file into a pandas dataframe\n",
    "    df = pd.read_csv(\"books.csv\")\n",
    "    df = df[df.language_code =='eng']\n",
    "    df['Title'] = df['title'].str.split('(').str[0]\n",
    "    print(\"Enter rating w/wo <rating> or random for book suggestion\")\n",
    "    search= input(\"enter to search \")\n",
    "    if search==\"random\":\n",
    "        df_new= df.sample(replace=True)[['Title', 'authors',\"rating\"]]\n",
    "        print(\"Title: \", df_new[['Title']].to_string(index=False, header=False))\n",
    "        print(\"Author: \", df_new[['authors']].to_string(index=False, header=False))\n",
    "        print(\"Rating: \", df_new[['rating']].to_string(index=False, header=False))\n",
    "        return \"Enjoy!\"\n",
    "    elif \"rating\" in search:\n",
    "            search=search.split()\n",
    "            rate=float(search[1])\n",
    "            df_rate = df[df['rating'].astype(float) >= rate]\n",
    "            df_new= df_rate.sample(replace=True)[['Title', 'authors',\"rating\"]]\n",
    "            print(\"Title: \", df_new[['Title']].to_string(index=False, header=False))\n",
    "            print(\"Author: \", df_new[['authors']].to_string(index=False, header=False))\n",
    "            print(\"Rating: \", df_new[['rating']].to_string(index=False, header=False))\n",
    "            return \"Enjoy!\"\n",
    "print(recommendation())"
   ]
  },
  {
   "cell_type": "code",
   "execution_count": 42,
   "metadata": {
    "scrolled": true
   },
   "outputs": [
    {
     "name": "stdout",
     "output_type": "stream",
     "text": [
      "Enter the author's name:     J.K. ROWlinG\n",
      "                                                   title  \\\n",
      "0      Harry Potter and the Half-Blood Prince (Harry ...   \n",
      "1      Harry Potter and the Order of the Phoenix (Har...   \n",
      "2      Harry Potter and the Chamber of Secrets (Harry...   \n",
      "3      Harry Potter and the Prisoner of Azkaban (Harr...   \n",
      "4      Harry Potter Boxed Set  Books 1-5 (Harry Potte...   \n",
      "6           Harry Potter Collection (Harry Potter  #1-6)   \n",
      "613    Harry Potter Schoolbooks Box Set: Two Classic ...   \n",
      "615    Harry Potter and the Half-Blood Prince (Harry ...   \n",
      "1233   Harry Potter and the Prisoner of Azkaban (Harr...   \n",
      "4416   Harry Potter and the Chamber of Secrets (Harry...   \n",
      "8876   Harry Potter and the Sorcerer's Stone (Harry P...   \n",
      "10344  Fantastic Beasts and Where to Find Them (Hogwa...   \n",
      "10679  Harry Potter and the Goblet of Fire (Harry Pot...   \n",
      "\n",
      "                           authors rating  \n",
      "0       J.K. Rowling/Mary GrandPré   4.57  \n",
      "1       J.K. Rowling/Mary GrandPré   4.49  \n",
      "2                     J.K. Rowling   4.42  \n",
      "3       J.K. Rowling/Mary GrandPré   4.56  \n",
      "4       J.K. Rowling/Mary GrandPré   4.78  \n",
      "6                     J.K. Rowling   4.73  \n",
      "613                   J.K. Rowling    4.4  \n",
      "615                   J.K. Rowling   4.57  \n",
      "1233                  J.K. Rowling   4.56  \n",
      "4416    J.K. Rowling/Mary GrandPré   4.42  \n",
      "8876    J.K. Rowling/Mary GrandPré   4.47  \n",
      "10344  Newt Scamander/J.K. Rowling   3.99  \n",
      "10679                 J.K. Rowling   4.56  \n"
     ]
    }
   ],
   "source": [
    "def author_search():\n",
    "    # Read csv file into a pandas dataframe\n",
    "    df = pd.read_csv(\"books.csv\")\n",
    "    df = df[df.language_code =='eng']\n",
    "\n",
    "    #reading and cleaning author's name\n",
    "    auth_inp = input(\"Enter the author's name: \")\n",
    "    clean_auth_inp=auth_inp.lstrip().rstrip().title()\n",
    "    \n",
    "    #showing title, rating and author for selected name\n",
    "    author_df = df[df.authors.str.find(clean_auth_inp)>=0][['title','authors','rating']]\n",
    "    print(author_df)\n",
    "    return None\n",
    "author_search()\n"
   ]
  }
 ],
 "metadata": {
  "kernelspec": {
   "display_name": "Python 3",
   "language": "python",
   "name": "python3"
  },
  "language_info": {
   "codemirror_mode": {
    "name": "ipython",
    "version": 3
   },
   "file_extension": ".py",
   "mimetype": "text/x-python",
   "name": "python",
   "nbconvert_exporter": "python",
   "pygments_lexer": "ipython3",
   "version": "3.8.5"
  }
 },
 "nbformat": 4,
 "nbformat_minor": 4
}
