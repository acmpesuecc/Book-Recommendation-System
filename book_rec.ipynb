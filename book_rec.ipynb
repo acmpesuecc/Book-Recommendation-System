{
 "cells": [
  {
   "cell_type": "code",
   "execution_count": 31,
   "metadata": {
    "scrolled": true
   },
   "outputs": [
    {
     "name": "stdout",
     "output_type": "stream",
     "text": [
      "1.Random Book\n",
      "2.Books Above a certain rating\n",
      "3.Search for books within a certain range\n",
      "4.Author Search\n",
      "5.Top 5 author\n",
      "enter to search top5\n",
      "None\n"
     ]
    },
    {
     "data": {
      "image/png": "[encoded data removed]",
      "text/plain": [
       "<Figure size 432x288 with 1 Axes>"
      ]
     },
     "metadata": {
      "needs_background": "light"
     },
     "output_type": "display_data"
    }
   ],
   "source": [
    "# Importing libraries\n",
    "import pandas as pd\n",
    "from fuzzywuzzy import process, fuzz\n",
    "def recommendation():\n",
    "    \n",
    "    # Read csv file into a pandas dataframe\n",
    "    df = pd.read_csv(\"books.csv\")\n",
    "    df = df[df.language_code =='eng']\n",
    "    df['Title'] = df['title'].str.split('(').str[0]\n",
    "    print(\"1.Random Book\\n2.Books Above a certain rating\\n3.Search for books within a certain range\\n4.Author Search\\n5.Top 5 author\")\n",
    "    search= input(\"enter to search \")\n",
    "    if search==\"random\":\n",
    "        df_new= df.sample(replace=True)[['Title', 'authors',\"rating\"]]\n",
    "        print(\"Title: \", df_new[['Title']].to_string(index=False, header=False))\n",
    "        print(\"Author: \", df_new[['authors']].to_string(index=False, header=False))\n",
    "        print(\"Rating: \", df_new[['rating']].to_string(index=False, header=False))\n",
    "        return \"Enjoy!\" \n",
    "    elif search==\"rating\":\n",
    "            print(\"Enter rating between 1 and 5: \")\n",
    "            rate= float(input(\"enter rating \"))\n",
    "            if rate < 0 or rate > 5:\n",
    "                print(\"Error: Enter rating between 0 and 5\")\n",
    "                return \"Please Correct\"\n",
    "            else:\n",
    "                df_rate = df[df['rating'].astype(float) >= rate]\n",
    "                df_new= df_rate.sample(replace=True)[['Title', 'authors',\"rating\"]]\n",
    "                print(\"Title: \", df_new[['Title']].to_string(index=False, header=False))\n",
    "                print(\"Author: \", df_new[['authors']].to_string(index=False, header=False))\n",
    "                print(\"Rating: \", df_new[['rating']].to_string(index=False, header=False))\n",
    "                return \"Enjoy!\"\n",
    "    elif search==\"rating range\":\n",
    "            print(\"Enter rating range between 1 and 5: \")\n",
    "            llimit= float(input(\"enter lower limit \"))\n",
    "            if llimit<1 or llimit>5:\n",
    "                llimit=1\n",
    "            ulimit= float(input(\"enter upper limit\"))\n",
    "            if ulimit>5 or ulimit<llimit:\n",
    "                ulimit=5\n",
    "            df_rate = df[(df['rating'].astype(float) >= llimit) & (df['rating'].astype(float) <= ulimit) ]\n",
    "            df_new= df_rate.sample(replace=True)[['title', 'authors',\"rating\"]]\n",
    "            print(\"Title: \", df_new[['title']].to_string(index=False, header=False))\n",
    "            print(\"Author: \", df_new[['authors']].to_string(index=False, header=False))\n",
    "            print(\"Rating: \", df_new[['rating']].to_string(index=False, header=False))\n",
    "            return \"Enjoy!\"\n",
    "    elif search==\"author\":\n",
    "            #Retrieve Author Name\n",
    "            search_auth = input(\"Enter the author you want to search for\")\n",
    "            search_auth = search_auth.split()\n",
    "            author = search_auth[0:]\n",
    "            author = \" \".join(author)\n",
    "            print(f\"Entered Author: {author}\")\n",
    "\n",
    "            #Make Nested list with authors and subauthors to pass in fuzzywuzzy\n",
    "            unique_authors = df['authors'].unique().tolist()\n",
    "            for i in range(len(unique_authors)):\n",
    "                subauthors = unique_authors[i].split('/')\n",
    "                unique_authors[i] = subauthors\n",
    "            #print(len(unique_authors))\n",
    "\n",
    "            #Find Exact author names that fuzzily match user input \n",
    "            finds=[]\n",
    "            for i in unique_authors:\n",
    "                l = process.extract(author, i, scorer=fuzz.token_sort_ratio)\n",
    "                for j in l:\n",
    "                    if j[1] > 85: #change accuracy value for stricter or more general results\n",
    "                        finds.append(i)          \n",
    "            finds = [\"/\".join(l) for l in finds]            \n",
    "            print(f\"Authors found: {finds}\")\n",
    "\n",
    "            authors = tuple(df['authors'])\n",
    "            for ix in range(len(authors)):\n",
    "                if authors[ix] in finds:\n",
    "                    df_new = df.iloc[[ix]]\n",
    "                    print()\n",
    "                    print(\"Title: \", df_new[['Title']].to_string(index=False, header=False))\n",
    "                    print(\"Author: \", df_new[['authors']].to_string(index=False, header=False))\n",
    "                    print(\"Rating: \", df_new[['rating']].to_string(index=False, header=False))\n",
    "    elif search==\"top5\":\n",
    "\n",
    "        df = clean_data()\n",
    "        plot_top5_highest_avg(df)\n",
    "\n",
    "print(recommendation())\n",
    "\n",
    "def clean_data():\n",
    "                df = pd.read_csv(\"books.csv\", index_col=\"bookID\")\n",
    "                df.drop([12224, 16914, 22128, 34889], inplace = True, axis=0)\n",
    "                df['rating'] = df['rating'].astype('float64')\n",
    "                df.rename(columns={'  num_pages': 'num_pages'}, inplace=True)\n",
    "                df['num_pages'] = df['num_pages'].astype('int')\n",
    "                df = df.dropna(axis=1,how='all')\n",
    "                return df\n",
    "def plot_top5_highest_avg(df:pd.DataFrame):\n",
    "                df_count = df[df['ratings_count']>=5]\n",
    "                author_count_num = df_count.groupby(['authors'], as_index=False).agg({'rating':'mean'})\n",
    "                df_new = author_count_num.sort_values(by=['rating'], ascending=False)\n",
    "                df_new.head(5).plot(x='authors', y='rating',kind='bar')"
   ]
  }
 ],
 "metadata": {
  "kernelspec": {
   "display_name": "Python 3",
   "language": "python",
   "name": "python3"
  },
  "language_info": {
   "codemirror_mode": {
    "name": "ipython",
    "version": 3
   },
   "file_extension": ".py",
   "mimetype": "text/x-python",
   "name": "python",
   "nbconvert_exporter": "python",
   "pygments_lexer": "ipython3",
   "version": "3.8.5"
  }
 },
 "nbformat": 4,
 "nbformat_minor": 4
}
