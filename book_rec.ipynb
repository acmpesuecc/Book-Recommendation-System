{
 "cells": [
  {
   "cell_type": "code",
   "execution_count": 10,
   "metadata": {},
   "outputs": [
    {
     "name": "stdout",
     "output_type": "stream",
     "text": [
      "Enter rating or random for book suggestion\n",
      "enter to search: rating\n",
      "Do you want to enter 1)A single rating or 2)A range of rating: 2\n",
      "Enter the range of rating(format :lowlimit uplimit):5 6\n",
      "Title:  Taxation of Mineral Rents\n",
      "Author:  Ross Garnaut\n",
      "Rating:  5\n",
      "Enjoy!\n"
     ]
    }
   ],
   "source": [
    "# Importing libraries\n",
    "import pandas as pd\n",
    "def recommendation():\n",
    "    \n",
    "    # Read csv file into a pandas dataframe\n",
    "    df = pd.read_csv(\"books.csv\")\n",
    "    df = df[df.language_code =='eng']\n",
    "    df['Title'] = df['title'].str.split('(').str[0]\n",
    "    print(\"Enter the word rating or random for book suggestion\")\n",
    "    search= input(\"enter to search: \")\n",
    "    if search==\"random\":\n",
    "        df_new= df.sample(replace=True)[['Title', 'authors',\"rating\"]]\n",
    "        print(\"Title: \", df_new[['Title']].to_string(index=False, header=False))\n",
    "        print(\"Author: \", df_new[['authors']].to_string(index=False, header=False))\n",
    "        print(\"Rating: \", df_new[['rating']].to_string(index=False, header=False))\n",
    "        return \"Enjoy!\"\n",
    "    elif \"rating\" in search:\n",
    "            ch=int(input(\"Do you want to enter 1)A single rating or 2)A range of rating: \"))\n",
    "            if(ch==1):\n",
    "                in1=input(\"Enter the rating\");\n",
    "                rate=float(in1)\n",
    "                df_rate = df[df['rating'].astype(float) >= rate]\n",
    "                df_new= df_rate.sample(replace=True)[['Title', 'authors',\"rating\"]]\n",
    "                print(\"Title: \", df_new[['Title']].to_string(index=False, header=False))\n",
    "                print(\"Author: \", df_new[['authors']].to_string(index=False, header=False))\n",
    "                print(\"Rating: \", df_new[['rating']].to_string(index=False, header=False))\n",
    "                return \"Enjoy!\"\n",
    "            elif(ch==2):\n",
    "                \n",
    "                in1=input(\"Enter the range of rating(format :lowlimit uplimit):\");\n",
    "                in1=in1.split(\" \")\n",
    "                ratelow=float(in1[0])\n",
    "                ratehigh=float(in1[1])\n",
    "                df_rate = df[df['rating'].astype(float).between(ratelow,ratehigh, inclusive = True)]\n",
    "                df_new= df_rate.sample(replace=True)[['Title', 'authors',\"rating\"]]\n",
    "                print(\"Title: \", df_new[['Title']].to_string(index=False, header=False))\n",
    "                print(\"Author: \", df_new[['authors']].to_string(index=False, header=False))\n",
    "                print(\"Rating: \", df_new[['rating']].to_string(index=False, header=False))\n",
    "                return \"Enjoy!\"\n",
    "print(recommendation())"
   ]
  },
  {
   "cell_type": "code",
   "execution_count": null,
   "metadata": {},
   "outputs": [],
   "source": []
  },
  {
   "cell_type": "code",
   "execution_count": null,
   "metadata": {},
   "outputs": [],
   "source": []
  },
  {
   "cell_type": "code",
   "execution_count": null,
   "metadata": {},
   "outputs": [],
   "source": []
  },
  {
   "cell_type": "code",
   "execution_count": null,
   "metadata": {},
   "outputs": [],
   "source": []
  }
 ],
 "metadata": {
  "interpreter": {
   "hash": "34988aa18bfd5e31d6508238d9f8773b42a28f885d63c6c28d319ef8e0dfeb22"
  },
  "kernelspec": {
   "display_name": "Python 3",
   "language": "python",
   "name": "python3"
  },
  "language_info": {
   "codemirror_mode": {
    "name": "ipython",
    "version": 3
   },
   "file_extension": ".py",
   "mimetype": "text/x-python",
   "name": "python",
   "nbconvert_exporter": "python",
   "pygments_lexer": "ipython3",
   "version": "3.8.8"
  }
 },
 "nbformat": 4,
 "nbformat_minor": 4
}
